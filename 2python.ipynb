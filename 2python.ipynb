{
 "cells": [
  {
   "cell_type": "markdown",
   "id": "295704de-1bc1-49db-98a8-f034dfd1d5ec",
   "metadata": {},
   "source": [
    " Load the data into python without using any data library and perform query"
   ]
  },
  {
   "cell_type": "code",
   "execution_count": 1,
   "id": "94144406-171d-4a72-ac40-c9b7fea6c426",
   "metadata": {},
   "outputs": [],
   "source": [
    "#Read csv file without use of python\n",
    "\n",
    "data=[]"
   ]
  },
  {
   "cell_type": "code",
   "execution_count": 2,
   "id": "c6167ae3-97e9-4a50-8ad7-ff837d82c158",
   "metadata": {},
   "outputs": [
    {
     "name": "stdout",
     "output_type": "stream",
     "text": [
      "order_id,customer_id,order_date,product_category,amount,payment_method\n",
      "1,1006,2023-01-01,Clothing,101.39,Bank Transfer\n",
      "2,1019,2023-01-02,Home,29.98,PayPal\n",
      "3,1014,2023-01-03,Clothing,299.54,Cash\n",
      "4,1010,2023-01-04,Clothing,342.01,Bank Transfer\n",
      "5,1007,2023-01-05,Electronics,18.13,Credit Card\n",
      "6,1006,2023-01-06,Clothing,260.93,PayPal\n",
      "7,1018,2023-01-07,Toys,120.98,Bank Transfer\n",
      "8,1010,2023-01-08,Clothing,326.13,PayPal\n",
      "9,1010,2023-01-09,Electronics,95.44,Bank Transfer\n",
      "10,1003,2023-01-10,Toys,348.56,PayPal\n",
      "11,1007,2023-01-11,Books,199.5,Credit Card\n",
      "12,1002,2023-01-12,Clothing,469.0,Cash\n",
      "13,1001,2023-01-13,Electronics,77.39,Credit Card\n",
      "14,1011,2023-01-14,Books,177.12,Cash\n",
      "15,1005,2023-01-15,Books,65.6,PayPal\n",
      "16,1001,2023-01-16,Home,463.1,Bank Transfer\n",
      "17,1000,2023-01-17,Toys,439.9,Credit Card\n",
      "18,1011,2023-01-18,Clothing,136.39,Cash\n",
      "19,1011,2023-01-19,Electronics,333.39,Credit Card\n",
      "20,1016,2023-01-20,Home,410.44,Cash\n",
      "21,1009,2023-01-21,Toys,282.05,Credit Card\n",
      "22,1015,2023-01-22,Home,269.53,Cash\n",
      "23,1014,2023-01-23,Toys,128.51,Cash\n",
      "24,1014,2023-01-24,Toys,55.62,PayPal\n",
      "25,1018,2023-01-25,Clothing,449.64,Cash\n",
      "26,1011,2023-01-26,Toys,451.2,PayPal\n",
      "27,1019,2023-01-27,Home,320.22,Cash\n",
      "28,1002,2023-01-28,Toys,176.12,Bank Transfer\n",
      "29,1004,2023-01-29,Clothing,181.11,Bank Transfer\n",
      "30,1018,2023-01-30,Clothing,365.72,Bank Transfer\n",
      "31,1006,2023-01-31,Home,449.58,Cash\n",
      "32,1008,2023-02-01,Books,444.67,PayPal\n",
      "33,1006,2023-02-02,Books,392.14,PayPal\n",
      "34,1017,2023-02-03,Toys,324.6,Cash\n",
      "35,1003,2023-02-04,Electronics,51.23,Bank Transfer\n",
      "36,1013,2023-02-05,Toys,89.2,Bank Transfer\n",
      "37,1017,2023-02-06,Home,450.29,PayPal\n",
      "38,1008,2023-02-07,Home,307.15,Bank Transfer\n",
      "39,1001,2023-02-08,Home,14.51,Credit Card\n",
      "40,1019,2023-02-09,Home,59.72,PayPal\n",
      "41,1014,2023-02-10,Home,335.12,Bank Transfer\n",
      "42,1006,2023-02-11,Clothing,12.48,PayPal\n",
      "43,1011,2023-02-12,Books,88.8,Credit Card\n",
      "44,1007,2023-02-13,Home,278.88,PayPal\n",
      "45,1014,2023-02-14,Electronics,349.03,PayPal\n",
      "46,1002,2023-02-15,Electronics,329.46,PayPal\n",
      "47,1013,2023-02-16,Electronics,119.89,PayPal\n",
      "48,1016,2023-02-17,Electronics,358.97,Credit Card\n",
      "49,1003,2023-02-18,Clothing,126.25,Cash\n",
      "50,1017,2023-02-19,Electronics,169.45,PayPal\n",
      "51,1007,2023-02-20,Home,375.78,PayPal\n",
      "52,1003,2023-02-21,Toys,328.32,Bank Transfer\n",
      "53,1001,2023-02-22,Electronics,426.12,PayPal\n",
      "54,1005,2023-02-23,Clothing,332.23,Bank Transfer\n",
      "55,1009,2023-02-24,Clothing,288.47,Cash\n",
      "56,1003,2023-02-25,Electronics,55.9,Credit Card\n",
      "57,1017,2023-02-26,Toys,190.18,Credit Card\n",
      "58,1011,2023-02-27,Electronics,139.95,Cash\n",
      "59,1001,2023-02-28,Clothing,129.55,Credit Card\n",
      "60,1009,2023-03-01,Books,486.78,Cash\n",
      "61,1003,2023-03-02,Home,202.62,Cash\n",
      "62,1013,2023-03-03,Clothing,447.1,Cash\n",
      "63,1015,2023-03-04,Electronics,319.26,Credit Card\n",
      "64,1014,2023-03-05,Home,399.46,Bank Transfer\n",
      "65,1007,2023-03-06,Electronics,256.29,Cash\n",
      "66,1013,2023-03-07,Electronics,292.68,PayPal\n",
      "67,1007,2023-03-08,Books,251.33,Credit Card\n",
      "68,1015,2023-03-09,Home,105.67,Cash\n",
      "69,1012,2023-03-10,Home,364.0,Cash\n",
      "70,1017,2023-03-11,Books,147.58,PayPal\n",
      "71,1014,2023-03-12,Clothing,21.91,Bank Transfer\n",
      "72,1012,2023-03-13,Electronics,326.28,Bank Transfer\n",
      "73,1008,2023-03-14,Toys,96.78,Bank Transfer\n",
      "74,1014,2023-03-15,Electronics,470.82,Cash\n",
      "75,1012,2023-03-16,Electronics,477.43,Cash\n",
      "76,1000,2023-03-17,Clothing,458.28,Cash\n",
      "77,1006,2023-03-18,Electronics,191.38,Credit Card\n",
      "78,1008,2023-03-19,Books,17.57,PayPal\n",
      "79,1000,2023-03-20,Books,464.88,Cash\n",
      "80,1011,2023-03-21,Home,219.81,PayPal\n",
      "81,1007,2023-03-22,Toys,483.66,PayPal\n",
      "82,1010,2023-03-23,Electronics,482.17,Bank Transfer\n",
      "83,1018,2023-03-24,Electronics,427.97,Credit Card\n",
      "84,1016,2023-03-25,Clothing,154.28,Cash\n",
      "85,1007,2023-03-26,Books,198.7,Bank Transfer\n",
      "86,1002,2023-03-27,Toys,427.06,Bank Transfer\n",
      "87,1002,2023-03-28,Home,165.29,Cash\n",
      "88,1000,2023-03-29,Books,93.05,PayPal\n",
      "89,1004,2023-03-30,Home,282.83,Bank Transfer\n",
      "90,1009,2023-03-31,Clothing,468.72,PayPal\n",
      "91,1006,2023-04-01,Clothing,351.05,Credit Card\n",
      "92,1008,2023-04-02,Electronics,289.33,PayPal\n",
      "93,1006,2023-04-03,Toys,57.62,Credit Card\n",
      "94,1008,2023-04-04,Home,311.35,PayPal\n",
      "95,1007,2023-04-05,Books,495.13,Bank Transfer\n",
      "96,1011,2023-04-06,Clothing,78.64,Bank Transfer\n",
      "97,1001,2023-04-07,Electronics,263.98,Credit Card\n",
      "98,1000,2023-04-08,Electronics,439.91,Cash\n",
      "99,1015,2023-04-09,Home,372.98,Credit Card\n",
      "100,1004,2023-04-10,Clothing,351.54,Credit Card\n",
      "\n"
     ]
    }
   ],
   "source": [
    "with open(\"orders_demo_data.csv\",\"r\")as file:\n",
    "    print(file.read())"
   ]
  },
  {
   "cell_type": "code",
   "execution_count": 4,
   "id": "c58dfe1a-f266-4cd7-96a5-2fd4eefc1f4d",
   "metadata": {},
   "outputs": [],
   "source": [
    "with open(\"orders_demo_data.csv\",\"r\") as file:\n",
    "    headers = file.readline().strip().split(\",\") #get column names\n",
    "    for line in file:\n",
    "        values = line.strip().split(\",\")\n",
    "        row= dict(zip(headers,values))\n",
    "        data.append(row)"
   ]
  },
  {
   "cell_type": "markdown",
   "id": "0f1e9037-da13-47f3-a730-a58c221adf5b",
   "metadata": {},
   "source": [
    "# Aggregate data by product category"
   ]
  },
  {
   "cell_type": "code",
   "execution_count": 7,
   "id": "6f6d2d1e-5a84-4ed0-a909-4cf25d175e21",
   "metadata": {},
   "outputs": [],
   "source": [
    "final ={}\n",
    "for row in data:\n",
    "    category = row[\"product_category\"]\n",
    "    amount = float(row[\"amount\"])\n",
    "\n",
    "    if category not in final:\n",
    "        final[category] ={\"order_count\":0,\"total_amount\":0.0}\n",
    "\n",
    "    final[category][\"order_count\"] +=1\n",
    "    final[category][\"total_amount\"] +=amount"
   ]
  },
  {
   "cell_type": "markdown",
   "id": "f055703b-7078-46d2-914c-7c8866678a4b",
   "metadata": {},
   "source": [
    "## Display result"
   ]
  },
  {
   "cell_type": "code",
   "execution_count": 8,
   "id": "3590c81f-1e1d-440e-b804-5c91479111d0",
   "metadata": {},
   "outputs": [
    {
     "name": "stdout",
     "output_type": "stream",
     "text": [
      "Clothing : Orders = 23, Total Amount = 6152.360000000001\n",
      "Home : Orders = 22, Total Amount = 6188.310000000001\n",
      "Electronics : Orders = 25, Total Amount = 6761.85\n",
      "Toys : Orders = 16, Total Amount = 4000.3599999999997\n",
      "Books : Orders = 14, Total Amount = 3522.8500000000004\n"
     ]
    }
   ],
   "source": [
    "for category, s in final.items():\n",
    "    print(f\"{category} : Orders = {s['order_count']}, Total Amount = {s['total_amount']}\")"
   ]
  },
  {
   "cell_type": "code",
   "execution_count": null,
   "id": "fb0e07f2-fa94-4cee-9dca-8d4b14042315",
   "metadata": {},
   "outputs": [],
   "source": []
  }
 ],
 "metadata": {
  "kernelspec": {
   "display_name": "Python 3 (ipykernel)",
   "language": "python",
   "name": "python3"
  },
  "language_info": {
   "codemirror_mode": {
    "name": "ipython",
    "version": 3
   },
   "file_extension": ".py",
   "mimetype": "text/x-python",
   "name": "python",
   "nbconvert_exporter": "python",
   "pygments_lexer": "ipython3",
   "version": "3.10.12"
  }
 },
 "nbformat": 4,
 "nbformat_minor": 5
}
